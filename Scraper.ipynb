{
 "cells": [
  {
   "cell_type": "markdown",
   "id": "4753595e",
   "metadata": {},
   "source": [
    "# Hungarian election scraper"
   ]
  },
  {
   "cell_type": "code",
   "execution_count": 9,
   "id": "0499641e",
   "metadata": {},
   "outputs": [],
   "source": [
    "# pip install webdriver-manager\n",
    "# conda install -c conda-forge selenium\n",
    "\n",
    "from selenium import webdriver\n",
    "from selenium.webdriver.chrome.service import Service\n",
    "from selenium.webdriver.common.keys import Keys\n",
    "from selenium.webdriver.common.by import By\n",
    "from selenium.webdriver.support.ui import WebDriverWait\n",
    "from selenium.webdriver.support import expected_conditions as EC\n",
    "\n",
    "from bs4 import BeautifulSoup\n",
    "import pandas as pd"
   ]
  },
  {
   "cell_type": "code",
   "execution_count": 10,
   "id": "4dc6d4fc",
   "metadata": {},
   "outputs": [],
   "source": [
    "ser = Service(\"C:\\\\Users\\jensr\\Downloads\\chromedriver_win32_100\\chromedriver.exe\")\n",
    "op = webdriver.ChromeOptions()\n",
    "driver = webdriver.Chrome(service=ser, options=op)"
   ]
  },
  {
   "cell_type": "code",
   "execution_count": 11,
   "id": "1f44b324",
   "metadata": {},
   "outputs": [],
   "source": [
    "url = \"https://vtr.valasztas.hu/ogy2022\"\n",
    "driver.get(url)"
   ]
  },
  {
   "cell_type": "code",
   "execution_count": 12,
   "id": "49b28fcd",
   "metadata": {},
   "outputs": [],
   "source": [
    "elems = driver.find_elements(By.TAG_NAME, \"a\")\n",
    "#for elem in elems:\n",
    "#    print(elem.get_attribute(\"href\"))\n",
    "urllist = []\n",
    "for elem in elems:\n",
    "    if \"egyeni-valasztokeruletek/\" in elem.get_attribute(\"href\"):\n",
    "        #print(elem.get_attribute(\"href\"))\n",
    "        urllist.append(elem.get_attribute(\"href\"))\n",
    "    urllist = list(dict.fromkeys(urllist))"
   ]
  },
  {
   "cell_type": "code",
   "execution_count": 13,
   "id": "39946508",
   "metadata": {},
   "outputs": [],
   "source": [
    "def affiliation_func(string):\n",
    "    fidesz = ['FIDESZ', 'KDNP']\n",
    "    if any(x in string for x in fidesz) == True:\n",
    "        return 'Fidesz/KDNP'\n",
    "    dialougue = ['DK', 'JOBBIK', 'MOMENTUM', 'MSZP', 'LMP']\n",
    "    if any(x in string for x in dialougue) == True:\n",
    "        return 'United for Hungary'\n",
    "    our_country = ['OUR COUNTRY', 'MI HAZÁNK']\n",
    "    if any(x in string for x in our_country) == True:\n",
    "        return 'Our Country'\n",
    "    mkkp = ['MKKP']\n",
    "    if any(x in string for x in mkkp) == True:\n",
    "        return 'MKKP'\n",
    "    np = ['NORMAL PART', 'NORMÁLIS PÁRT']\n",
    "    if any(x in string for x in np) == True:\n",
    "        return 'Normal party'\n",
    "    np = ['MEMO']\n",
    "    if any(x in string for x in np) == True:\n",
    "        return 'MEMO'\n",
    "    if 'MNOÖ' in string:\n",
    "        return 'German minority'  \n",
    "    else:\n",
    "        return 'Others'"
   ]
  },
  {
   "cell_type": "code",
   "execution_count": 14,
   "id": "1ac03a22",
   "metadata": {},
   "outputs": [
    {
     "name": "stdout",
     "output_type": "stream",
     "text": [
      "yay\n",
      "yay\n",
      "yay\n",
      "yay\n",
      "yay\n",
      "yay\n",
      "yay\n",
      "yay\n",
      "yay\n",
      "yay\n",
      "yay\n",
      "yay\n",
      "yay\n",
      "yay\n",
      "yay\n",
      "yay\n",
      "yay\n",
      "yay\n",
      "yay\n",
      "yay\n",
      "yay\n",
      "yay\n",
      "yay\n",
      "yay\n",
      "yay\n",
      "yay\n",
      "yay\n",
      "yay\n",
      "yay\n",
      "yay\n",
      "yay\n",
      "yay\n",
      "yay\n",
      "yay\n",
      "yay\n",
      "yay\n",
      "yay\n",
      "yay\n",
      "yay\n",
      "yay\n",
      "yay\n",
      "yay\n",
      "yay\n",
      "yay\n",
      "yay\n",
      "yay\n",
      "yay\n",
      "yay\n",
      "yay\n",
      "yay\n",
      "yay\n",
      "yay\n",
      "yay\n",
      "yay\n",
      "yay\n",
      "yay\n",
      "yay\n",
      "yay\n",
      "yay\n",
      "yay\n",
      "yay\n",
      "yay\n",
      "yay\n",
      "yay\n",
      "yay\n",
      "yay\n",
      "yay\n",
      "yay\n",
      "yay\n",
      "yay\n",
      "yay\n",
      "yay\n",
      "yay\n",
      "yay\n",
      "yay\n",
      "yay\n",
      "yay\n",
      "yay\n",
      "yay\n",
      "yay\n",
      "yay\n",
      "yay\n",
      "yay\n",
      "yay\n",
      "yay\n",
      "yay\n",
      "yay\n",
      "yay\n",
      "yay\n",
      "yay\n",
      "yay\n",
      "yay\n",
      "yay\n",
      "yay\n",
      "yay\n",
      "yay\n",
      "yay\n",
      "yay\n",
      "yay\n",
      "yay\n",
      "yay\n",
      "yay\n",
      "yay\n",
      "yay\n",
      "yay\n",
      "yay\n"
     ]
    }
   ],
   "source": [
    "import numpy as np\n",
    "def scrape_func(urllist):\n",
    "    candidates = []\n",
    "    for url in urllist:\n",
    "        ser = Service(\"C:\\\\Users\\jensr\\Downloads\\chromedriver_win32_100\\chromedriver.exe\")\n",
    "        op = webdriver.ChromeOptions()\n",
    "        driver = webdriver.Chrome(service=ser, options=op)\n",
    "        driver.get(url)\n",
    "        #driver.set_page_load_timeout(120)\n",
    "\n",
    "        wait = WebDriverWait(driver, 10)\n",
    "        head = wait.until(EC.element_to_be_clickable((By.TAG_NAME, \"h1\")))\n",
    "\n",
    "        name = []\n",
    "        head = driver.find_elements(By.TAG_NAME, \"h1\")\n",
    "        for elem in head:\n",
    "            name.append(elem.text)\n",
    "        district = ''.join(name)\n",
    " \n",
    "        #driver.set_page_load_timeout(30)\n",
    "        head = wait.until(EC.element_to_be_clickable((By.TAG_NAME, \"article\")))\n",
    "        dist = driver.find_elements(By.TAG_NAME, \"article\")\n",
    "        import re \n",
    "        data = []\n",
    "        for elem in dist:\n",
    "            row = elem.text.split('\\n')\n",
    "            #print(row)\n",
    "            relative = re.findall(r\"[0-9]*.[0-9]*%\", row[-1].replace(',', '.'))[0]\n",
    "            candidate = {\n",
    "                    'name' : row[1],\n",
    "                    'votes' : int(row[-1].replace(',', '.').replace(relative, '').replace(' ', '')),\n",
    "                    'relative' : float(relative.replace('%', '')),\n",
    "                    'district' : district,\n",
    "                    'affiliation' : affiliation_func(row[2:-2])\n",
    "                        } \n",
    "            candidates.append(candidate)\n",
    "        print('yay')\n",
    "    df = pd.DataFrame(candidates)\n",
    "    df.to_pickle('test.pkl')\n",
    "    return df\n",
    "\n",
    "election = scrape_func(urllist)"
   ]
  },
  {
   "cell_type": "code",
   "execution_count": 7,
   "id": "78980693",
   "metadata": {},
   "outputs": [
    {
     "data": {
      "text/html": [
       "<div>\n",
       "<style scoped>\n",
       "    .dataframe tbody tr th:only-of-type {\n",
       "        vertical-align: middle;\n",
       "    }\n",
       "\n",
       "    .dataframe tbody tr th {\n",
       "        vertical-align: top;\n",
       "    }\n",
       "\n",
       "    .dataframe thead th {\n",
       "        text-align: right;\n",
       "    }\n",
       "</style>\n",
       "<table border=\"1\" class=\"dataframe\">\n",
       "  <thead>\n",
       "    <tr style=\"text-align: right;\">\n",
       "      <th></th>\n",
       "    </tr>\n",
       "  </thead>\n",
       "  <tbody>\n",
       "  </tbody>\n",
       "</table>\n",
       "</div>"
      ],
      "text/plain": [
       "Empty DataFrame\n",
       "Columns: []\n",
       "Index: []"
      ]
     },
     "execution_count": 7,
     "metadata": {},
     "output_type": "execute_result"
    }
   ],
   "source": [
    "election"
   ]
  },
  {
   "cell_type": "code",
   "execution_count": 20,
   "id": "8d57c5f4",
   "metadata": {},
   "outputs": [
    {
     "name": "stderr",
     "output_type": "stream",
     "text": [
      "C:\\Users\\jensr\\AppData\\Local\\Temp/ipykernel_6836/483322854.py:5: SettingWithCopyWarning: \n",
      "A value is trying to be set on a copy of a slice from a DataFrame.\n",
      "Try using .loc[row_indexer,col_indexer] = value instead\n",
      "\n",
      "See the caveats in the documentation: https://pandas.pydata.org/pandas-docs/stable/user_guide/indexing.html#returning-a-view-versus-a-copy\n",
      "  df['test'] = df.votes.apply(lambda x : int(str(x)[0]))\n"
     ]
    },
    {
     "data": {
      "text/plain": [
       "<AxesSubplot:xlabel='test', ylabel='count'>"
      ]
     },
     "execution_count": 20,
     "metadata": {},
     "output_type": "execute_result"
    },
    {
     "data": {
      "image/png": "[encoded data removed]",
      "text/plain": [
       "<Figure size 432x288 with 1 Axes>"
      ]
     },
     "metadata": {
      "needs_background": "light"
     },
     "output_type": "display_data"
    }
   ],
   "source": [
    "import seaborn as sns\n",
    "\n",
    "df = election\n",
    "df = df[df['votes'] != 0]\n",
    "df['test'] = df.votes.apply(lambda x : int(str(x)[0]))\n",
    "df = df[df['test'] != 0]\n",
    "#df['test'].value_counts().plot(kind ='bar')\n",
    "sns.countplot(data=df, x = 'test', color = 'b')"
   ]
  },
  {
   "cell_type": "code",
   "execution_count": 21,
   "id": "39e6d91b",
   "metadata": {},
   "outputs": [
    {
     "data": {
      "text/plain": [
       "array(['United for Hungary', 'Fidesz/KDNP', 'MKKP', 'Our Country', 'MEMO',\n",
       "       'Normal party', 'Others'], dtype=object)"
      ]
     },
     "execution_count": 21,
     "metadata": {},
     "output_type": "execute_result"
    }
   ],
   "source": [
    "election.affiliation.unique()"
   ]
  },
  {
   "cell_type": "code",
   "execution_count": 22,
   "id": "da56467e",
   "metadata": {},
   "outputs": [
    {
     "data": {
      "text/plain": [
       "2823419"
      ]
     },
     "execution_count": 22,
     "metadata": {},
     "output_type": "execute_result"
    }
   ],
   "source": [
    "fd = election[election['affiliation'] == 'Fidesz/KDNP']\n",
    "fd.votes.sum()"
   ]
  },
  {
   "cell_type": "code",
   "execution_count": 23,
   "id": "16b3d320",
   "metadata": {},
   "outputs": [
    {
     "data": {
      "text/plain": [
       "106"
      ]
     },
     "execution_count": 23,
     "metadata": {},
     "output_type": "execute_result"
    }
   ],
   "source": [
    "election.district.nunique()"
   ]
  },
  {
   "cell_type": "code",
   "execution_count": 24,
   "id": "4dae31c8",
   "metadata": {},
   "outputs": [],
   "source": [
    "ben = df.groupby('test').count()\n",
    "Benford_digits = [\n",
    "30.1,\n",
    "17.6,\n",
    "12.5,\n",
    "9.7,\n",
    "7.9,\n",
    "6.7,\n",
    "5.8,\n",
    "5.1,\n",
    "4.6\n",
    "]\n",
    "\n",
    "ben['exp'] = Benford_digits"
   ]
  },
  {
   "cell_type": "code",
   "execution_count": 25,
   "id": "c297efdf",
   "metadata": {},
   "outputs": [],
   "source": [
    "ben = ben.drop(columns = ['name', 'relative', 'district'])\n",
    "ben['measured'] = ben['votes']/sum(ben['votes'])*100\n",
    "ben['test'] = ben.index"
   ]
  },
  {
   "cell_type": "code",
   "execution_count": 26,
   "id": "b5639506",
   "metadata": {},
   "outputs": [
    {
     "data": {
      "text/plain": [
       "Power_divergenceResult(statistic=22.091396760820214, pvalue=0.00474933911389331)"
      ]
     },
     "execution_count": 26,
     "metadata": {},
     "output_type": "execute_result"
    }
   ],
   "source": [
    "import scipy.stats as stats\n",
    "\n",
    "\n",
    "#perform Chi-Square Goodness of Fit Test\n",
    "stats.chisquare(f_obs=ben['measured'].array, f_exp=ben['exp'].array)\n"
   ]
  },
  {
   "cell_type": "code",
   "execution_count": 27,
   "id": "8b3263a0",
   "metadata": {},
   "outputs": [
    {
     "data": {
      "text/plain": [
       "<AxesSubplot:xlabel='test'>"
      ]
     },
     "execution_count": 27,
     "metadata": {},
     "output_type": "execute_result"
    },
    {
     "data": {
      "image/png": "[encoded data removed]",
      "text/plain": [
       "<Figure size 720x432 with 1 Axes>"
      ]
     },
     "metadata": {
      "needs_background": "light"
     },
     "output_type": "display_data"
    }
   ],
   "source": [
    "import matplotlib.pyplot as plt\n",
    "\n",
    "fig, ax = plt.subplots(figsize=(10,6))\n",
    "ben['exp'].plot(kind='bar', alpha = 0.3)\n",
    "ben['measured'].plot(kind='bar', color = 'r', alpha = 0.3)"
   ]
  },
  {
   "cell_type": "code",
   "execution_count": 28,
   "id": "5ddf02c6",
   "metadata": {},
   "outputs": [
    {
     "data": {
      "text/plain": [
       "<AxesSubplot:xlabel='test', ylabel='exp'>"
      ]
     },
     "execution_count": 28,
     "metadata": {},
     "output_type": "execute_result"
    },
    {
     "data": {
      "image/png": "[encoded data removed]",
      "text/plain": [
       "<Figure size 432x288 with 1 Axes>"
      ]
     },
     "metadata": {
      "needs_background": "light"
     },
     "output_type": "display_data"
    }
   ],
   "source": [
    "sns.barplot(data=ben, y = 'exp', x = 'test' ,color = 'b')"
   ]
  },
  {
   "cell_type": "code",
   "execution_count": 29,
   "id": "49eb09cd",
   "metadata": {},
   "outputs": [
    {
     "data": {
      "text/plain": [
       "<AxesSubplot:xlabel='test', ylabel='value'>"
      ]
     },
     "execution_count": 29,
     "metadata": {},
     "output_type": "execute_result"
    },
    {
     "data": {
      "image/png": "[encoded data removed]",
      "text/plain": [
       "<Figure size 432x288 with 1 Axes>"
      ]
     },
     "metadata": {
      "needs_background": "light"
     },
     "output_type": "display_data"
    }
   ],
   "source": [
    "lol = pd.melt(ben, id_vars=['test'], value_vars=['exp', 'measured' ])\n",
    "sns.barplot(data=lol, y = 'value', x='test', hue ='variable')"
   ]
  },
  {
   "cell_type": "code",
   "execution_count": 30,
   "id": "ebe05f5b",
   "metadata": {},
   "outputs": [
    {
     "data": {
      "text/html": [
       "<div>\n",
       "<style scoped>\n",
       "    .dataframe tbody tr th:only-of-type {\n",
       "        vertical-align: middle;\n",
       "    }\n",
       "\n",
       "    .dataframe tbody tr th {\n",
       "        vertical-align: top;\n",
       "    }\n",
       "\n",
       "    .dataframe thead th {\n",
       "        text-align: right;\n",
       "    }\n",
       "</style>\n",
       "<table border=\"1\" class=\"dataframe\">\n",
       "  <thead>\n",
       "    <tr style=\"text-align: right;\">\n",
       "      <th></th>\n",
       "      <th>votes</th>\n",
       "      <th>relative</th>\n",
       "      <th>test</th>\n",
       "      <th>%</th>\n",
       "    </tr>\n",
       "    <tr>\n",
       "      <th>name</th>\n",
       "      <th></th>\n",
       "      <th></th>\n",
       "      <th></th>\n",
       "      <th></th>\n",
       "    </tr>\n",
       "  </thead>\n",
       "  <tbody>\n",
       "    <tr>\n",
       "      <th>DR. VITÁLYOS ESZTER</th>\n",
       "      <td>36877.0</td>\n",
       "      <td>51.94</td>\n",
       "      <td>3.0</td>\n",
       "      <td>0.691533</td>\n",
       "    </tr>\n",
       "    <tr>\n",
       "      <th>PÁNCZÉL KÁROLY</th>\n",
       "      <td>35513.0</td>\n",
       "      <td>56.81</td>\n",
       "      <td>3.0</td>\n",
       "      <td>0.665954</td>\n",
       "    </tr>\n",
       "    <tr>\n",
       "      <th>HISZÉKENY DEZSŐ</th>\n",
       "      <td>35248.0</td>\n",
       "      <td>60.53</td>\n",
       "      <td>3.0</td>\n",
       "      <td>0.660985</td>\n",
       "    </tr>\n",
       "    <tr>\n",
       "      <th>GYOPÁROS ALPÁR</th>\n",
       "      <td>35119.0</td>\n",
       "      <td>71.22</td>\n",
       "      <td>3.0</td>\n",
       "      <td>0.658566</td>\n",
       "    </tr>\n",
       "    <tr>\n",
       "      <th>MENCZER TAMÁS</th>\n",
       "      <td>34810.0</td>\n",
       "      <td>46.77</td>\n",
       "      <td>3.0</td>\n",
       "      <td>0.652771</td>\n",
       "    </tr>\n",
       "    <tr>\n",
       "      <th>...</th>\n",
       "      <td>...</td>\n",
       "      <td>...</td>\n",
       "      <td>...</td>\n",
       "      <td>...</td>\n",
       "    </tr>\n",
       "    <tr>\n",
       "      <th>HEGEDÜS MÁTÉ</th>\n",
       "      <td>71.0</td>\n",
       "      <td>0.14</td>\n",
       "      <td>7.0</td>\n",
       "      <td>0.001331</td>\n",
       "    </tr>\n",
       "    <tr>\n",
       "      <th>KÓTAI GYULA</th>\n",
       "      <td>69.0</td>\n",
       "      <td>0.15</td>\n",
       "      <td>6.0</td>\n",
       "      <td>0.001294</td>\n",
       "    </tr>\n",
       "    <tr>\n",
       "      <th>BARABÁS GYÖRGY</th>\n",
       "      <td>56.0</td>\n",
       "      <td>0.10</td>\n",
       "      <td>5.0</td>\n",
       "      <td>0.001050</td>\n",
       "    </tr>\n",
       "    <tr>\n",
       "      <th>FARAGÓ GERGELY</th>\n",
       "      <td>38.0</td>\n",
       "      <td>0.08</td>\n",
       "      <td>3.0</td>\n",
       "      <td>0.000713</td>\n",
       "    </tr>\n",
       "    <tr>\n",
       "      <th>FARAGÓ LAJOS GERGELY</th>\n",
       "      <td>20.0</td>\n",
       "      <td>0.04</td>\n",
       "      <td>2.0</td>\n",
       "      <td>0.000375</td>\n",
       "    </tr>\n",
       "  </tbody>\n",
       "</table>\n",
       "<p>655 rows × 4 columns</p>\n",
       "</div>"
      ],
      "text/plain": [
       "                        votes  relative  test         %\n",
       "name                                                   \n",
       "DR. VITÁLYOS ESZTER   36877.0     51.94   3.0  0.691533\n",
       "PÁNCZÉL KÁROLY        35513.0     56.81   3.0  0.665954\n",
       "HISZÉKENY DEZSŐ       35248.0     60.53   3.0  0.660985\n",
       "GYOPÁROS ALPÁR        35119.0     71.22   3.0  0.658566\n",
       "MENCZER TAMÁS         34810.0     46.77   3.0  0.652771\n",
       "...                       ...       ...   ...       ...\n",
       "HEGEDÜS MÁTÉ             71.0      0.14   7.0  0.001331\n",
       "KÓTAI GYULA              69.0      0.15   6.0  0.001294\n",
       "BARABÁS GYÖRGY           56.0      0.10   5.0  0.001050\n",
       "FARAGÓ GERGELY           38.0      0.08   3.0  0.000713\n",
       "FARAGÓ LAJOS GERGELY     20.0      0.04   2.0  0.000375\n",
       "\n",
       "[655 rows x 4 columns]"
      ]
     },
     "execution_count": 30,
     "metadata": {},
     "output_type": "execute_result"
    }
   ],
   "source": [
    "blab = df.groupby('name').mean().sort_values(by= 'votes', ascending = False)\n",
    "blab['%'] = blab['votes'].apply(lambda x: (float(x)/float(blab.votes.sum()))*100)\n",
    "blab"
   ]
  },
  {
   "cell_type": "code",
   "execution_count": 31,
   "id": "601be6d5",
   "metadata": {},
   "outputs": [
    {
     "data": {
      "text/plain": [
       "5332648.0"
      ]
     },
     "execution_count": 31,
     "metadata": {},
     "output_type": "execute_result"
    }
   ],
   "source": [
    "blab.votes.sum()"
   ]
  },
  {
   "cell_type": "code",
   "execution_count": null,
   "id": "e9c08ffb",
   "metadata": {},
   "outputs": [],
   "source": []
  }
 ],
 "metadata": {
  "kernelspec": {
   "display_name": "Python 3 (ipykernel)",
   "language": "python",
   "name": "python3"
  },
  "language_info": {
   "codemirror_mode": {
    "name": "ipython",
    "version": 3
   },
   "file_extension": ".py",
   "mimetype": "text/x-python",
   "name": "python",
   "nbconvert_exporter": "python",
   "pygments_lexer": "ipython3",
   "version": "3.9.7"
  }
 },
 "nbformat": 4,
 "nbformat_minor": 5
}
