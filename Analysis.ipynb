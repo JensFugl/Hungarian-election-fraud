{
 "cells": [
  {
   "cell_type": "code",
   "execution_count": 2,
   "id": "b8250105",
   "metadata": {},
   "outputs": [],
   "source": [
    "import pandas as pd\n",
    "import seaborn as sns\n",
    "import matplotlib.pyplot as plt\n",
    "import scipy.stats as stats"
   ]
  },
  {
   "cell_type": "code",
   "execution_count": 3,
   "id": "9f5b6545",
   "metadata": {},
   "outputs": [],
   "source": [
    "df = pd.read_pickle('test.pkl')"
   ]
  },
  {
   "cell_type": "code",
   "execution_count": 4,
   "id": "363cc7e9",
   "metadata": {},
   "outputs": [],
   "source": [
    "#df.describe().transpose()\n",
    "#df.info()\n",
    "#df.isna().sum()"
   ]
  },
  {
   "cell_type": "markdown",
   "id": "97093b0d",
   "metadata": {},
   "source": [
    "# Party analysis"
   ]
  },
  {
   "cell_type": "code",
   "execution_count": 5,
   "id": "0f5df665",
   "metadata": {},
   "outputs": [
    {
     "data": {
      "text/html": [
       "<div>\n",
       "<style scoped>\n",
       "    .dataframe tbody tr th:only-of-type {\n",
       "        vertical-align: middle;\n",
       "    }\n",
       "\n",
       "    .dataframe tbody tr th {\n",
       "        vertical-align: top;\n",
       "    }\n",
       "\n",
       "    .dataframe thead th {\n",
       "        text-align: right;\n",
       "    }\n",
       "</style>\n",
       "<table border=\"1\" class=\"dataframe\">\n",
       "  <thead>\n",
       "    <tr style=\"text-align: right;\">\n",
       "      <th></th>\n",
       "      <th>votes</th>\n",
       "      <th>%</th>\n",
       "    </tr>\n",
       "    <tr>\n",
       "      <th>affiliation</th>\n",
       "      <th></th>\n",
       "      <th></th>\n",
       "    </tr>\n",
       "  </thead>\n",
       "  <tbody>\n",
       "    <tr>\n",
       "      <th>Fidesz/KDNP</th>\n",
       "      <td>2823419</td>\n",
       "      <td>52.522003</td>\n",
       "    </tr>\n",
       "    <tr>\n",
       "      <th>United for Hungary</th>\n",
       "      <td>1983708</td>\n",
       "      <td>36.901472</td>\n",
       "    </tr>\n",
       "    <tr>\n",
       "      <th>Our Country</th>\n",
       "      <td>307064</td>\n",
       "      <td>5.712087</td>\n",
       "    </tr>\n",
       "    <tr>\n",
       "      <th>MKKP</th>\n",
       "      <td>126648</td>\n",
       "      <td>2.355940</td>\n",
       "    </tr>\n",
       "    <tr>\n",
       "      <th>MEMO</th>\n",
       "      <td>64341</td>\n",
       "      <td>1.196889</td>\n",
       "    </tr>\n",
       "    <tr>\n",
       "      <th>Others</th>\n",
       "      <td>39013</td>\n",
       "      <td>0.725730</td>\n",
       "    </tr>\n",
       "    <tr>\n",
       "      <th>Normal party</th>\n",
       "      <td>31495</td>\n",
       "      <td>0.585878</td>\n",
       "    </tr>\n",
       "  </tbody>\n",
       "</table>\n",
       "</div>"
      ],
      "text/plain": [
       "                      votes          %\n",
       "affiliation                           \n",
       "Fidesz/KDNP         2823419  52.522003\n",
       "United for Hungary  1983708  36.901472\n",
       "Our Country          307064   5.712087\n",
       "MKKP                 126648   2.355940\n",
       "MEMO                  64341   1.196889\n",
       "Others                39013   0.725730\n",
       "Normal party          31495   0.585878"
      ]
     },
     "execution_count": 5,
     "metadata": {},
     "output_type": "execute_result"
    },
    {
     "data": {
      "image/png": "[encoded data removed]",
      "text/plain": [
       "<Figure size 432x288 with 1 Axes>"
      ]
     },
     "metadata": {
      "needs_background": "light"
     },
     "output_type": "display_data"
    }
   ],
   "source": [
    "party = df.groupby('affiliation').sum().drop(columns = 'relative')\n",
    "party['%'] = party['votes'].apply(lambda x : (x/party['votes'].sum())*100)\n",
    "party = party.sort_values(by='%', ascending = False)\n",
    "party['%'].plot(kind='bar')\n",
    "party"
   ]
  },
  {
   "cell_type": "code",
   "execution_count": 6,
   "id": "b461469d",
   "metadata": {},
   "outputs": [
    {
     "data": {
      "text/html": [
       "<div>\n",
       "<style scoped>\n",
       "    .dataframe tbody tr th:only-of-type {\n",
       "        vertical-align: middle;\n",
       "    }\n",
       "\n",
       "    .dataframe tbody tr th {\n",
       "        vertical-align: top;\n",
       "    }\n",
       "\n",
       "    .dataframe thead th {\n",
       "        text-align: right;\n",
       "    }\n",
       "</style>\n",
       "<table border=\"1\" class=\"dataframe\">\n",
       "  <thead>\n",
       "    <tr style=\"text-align: right;\">\n",
       "      <th></th>\n",
       "      <th>mail</th>\n",
       "      <th>name</th>\n",
       "      <th>total</th>\n",
       "      <th>constituency</th>\n",
       "      <th>diff</th>\n",
       "    </tr>\n",
       "    <tr>\n",
       "      <th>name</th>\n",
       "      <th></th>\n",
       "      <th></th>\n",
       "      <th></th>\n",
       "      <th></th>\n",
       "      <th></th>\n",
       "    </tr>\n",
       "  </thead>\n",
       "  <tbody>\n",
       "    <tr>\n",
       "      <th>Fidesz</th>\n",
       "      <td>251468</td>\n",
       "      <td>Fidesz</td>\n",
       "      <td>3060706</td>\n",
       "      <td>2823419</td>\n",
       "      <td>237287</td>\n",
       "    </tr>\n",
       "    <tr>\n",
       "      <th>United for Hungary</th>\n",
       "      <td>11034</td>\n",
       "      <td>United for Hungary</td>\n",
       "      <td>1947331</td>\n",
       "      <td>1983708</td>\n",
       "      <td>-36377</td>\n",
       "    </tr>\n",
       "    <tr>\n",
       "      <th>Our Homeland</th>\n",
       "      <td>2836</td>\n",
       "      <td>Our Homeland</td>\n",
       "      <td>332487</td>\n",
       "      <td>307064</td>\n",
       "      <td>25423</td>\n",
       "    </tr>\n",
       "  </tbody>\n",
       "</table>\n",
       "</div>"
      ],
      "text/plain": [
       "                      mail                name    total  constituency    diff\n",
       "name                                                                         \n",
       "Fidesz              251468              Fidesz  3060706       2823419  237287\n",
       "United for Hungary   11034  United for Hungary  1947331       1983708  -36377\n",
       "Our Homeland          2836        Our Homeland   332487        307064   25423"
      ]
     },
     "execution_count": 6,
     "metadata": {},
     "output_type": "execute_result"
    }
   ],
   "source": [
    "fidesz = {'mail' : 251468, 'name' : 'Fidesz', 'total' : 3060706, 'constituency' : 2823419}\n",
    "united_for_hungary = {'mail' : 11034, 'name' : 'United for Hungary','total' : 1947331, 'constituency' : 1983708}\n",
    "Our_country = {'mail' : 2836, 'name' :'Our Homeland', 'total' : 332487, 'constituency' : 307064}\n",
    "\n",
    "parties = pd.DataFrame([fidesz, united_for_hungary, Our_country])\n",
    "parties['diff'] = parties['total'] - parties['constituency']\n",
    "parties.index = parties['name']\n",
    "parties"
   ]
  },
  {
   "cell_type": "markdown",
   "id": "d1b328dd",
   "metadata": {},
   "source": [
    "Aggregation of list votes\n",
    "Total number of valid votes cast for party lists\n",
    "5,624,225 ( 99.46% )\n",
    "Total number of valid votes cast on nationality lists\n",
    "30,635 ( 0.54% )\n",
    "Total number of valid votes cast for lists\n",
    "5,654,860 ( 100.00% )"
   ]
  },
  {
   "cell_type": "markdown",
   "id": "edb95901",
   "metadata": {},
   "source": [
    "# Benford analysis"
   ]
  },
  {
   "cell_type": "code",
   "execution_count": 7,
   "id": "b6a60c72",
   "metadata": {},
   "outputs": [
    {
     "data": {
      "text/plain": [
       "<AxesSubplot:xlabel='test', ylabel='count'>"
      ]
     },
     "execution_count": 7,
     "metadata": {},
     "output_type": "execute_result"
    },
    {
     "data": {
      "image/png": "[encoded data removed]",
      "text/plain": [
       "<Figure size 432x288 with 1 Axes>"
      ]
     },
     "metadata": {
      "needs_background": "light"
     },
     "output_type": "display_data"
    }
   ],
   "source": [
    "import seaborn as sns\n",
    "df = df[df['votes'] != 0]\n",
    "df['test'] = df.votes.apply(lambda x : int(str(x)[0]))\n",
    "#df = df[df['test'] != 0]\n",
    "#df['test'].value_counts().plot(kind ='bar')\n",
    "sns.countplot(data=df, x = 'test', color = 'b')"
   ]
  },
  {
   "cell_type": "code",
   "execution_count": 8,
   "id": "8ee65ed1",
   "metadata": {},
   "outputs": [
    {
     "data": {
      "text/plain": [
       "Power_divergenceResult(statistic=22.091396760820214, pvalue=0.00474933911389331)"
      ]
     },
     "execution_count": 8,
     "metadata": {},
     "output_type": "execute_result"
    }
   ],
   "source": [
    "# create Benford test dataframe\n",
    "\n",
    "ben = df.groupby('test').count()\n",
    "Benford_digits = [30.1, 17.6, 12.5, 9.7, 7.9, 6.7, 5.8, 5.1, 4.6]\n",
    "\n",
    "ben['Benford distribution'] = Benford_digits\n",
    "ben = ben.drop(columns = ['name', 'relative', 'district'])\n",
    "ben['Hungarian election'] = ben['votes']/sum(ben['votes'])*100\n",
    "ben['test'] = ben.index\n",
    "\n",
    "#perform Chi-Square Goodness of Fit Test\n",
    "stats.chisquare(f_obs=ben['Hungarian election'].array, f_exp=ben['Benford distribution'].array)"
   ]
  },
  {
   "cell_type": "code",
   "execution_count": 66,
   "id": "901f1a5f",
   "metadata": {},
   "outputs": [
    {
     "data": {
      "image/png": "[encoded data removed]",
      "text/plain": [
       "<Figure size 720x432 with 1 Axes>"
      ]
     },
     "metadata": {},
     "output_type": "display_data"
    }
   ],
   "source": [
    "colors = ['b']\n",
    "fig, ax = plt.subplots(figsize=(10,6))\n",
    "#sns.set_theme(style=\"whitegrid\", context=\"talk\")\n",
    "sns.barplot(data=ben, y = 'Benford distribution', x ='test', saturation =1, palette=sns.color_palette(colors) )\n",
    "#ben['Benford distribution'].plot(kind='bar', alpha = 0.9)\n",
    "#(ben['Hungarian election']).plot(kind='bar', color = 'r', alpha = 0.3)\n",
    "plt.xlabel('First digit')\n",
    "plt.ylabel('Occurence [%]')\n",
    "plt.tight_layout()\n",
    "plt.savefig('Benfords Distribution')"
   ]
  },
  {
   "cell_type": "code",
   "execution_count": 50,
   "id": "e0214fa9",
   "metadata": {},
   "outputs": [
    {
     "data": {
      "image/png": "[encoded data removed]",
      "text/plain": [
       "<Figure size 720x432 with 1 Axes>"
      ]
     },
     "metadata": {},
     "output_type": "display_data"
    }
   ],
   "source": [
    "colors = [\"b\", \"#FF6A00\"]\n",
    "\n",
    "fig, ax = plt.subplots(figsize=(10,6))\n",
    "sns.set_theme(style=\"whitegrid\", context=\"talk\")\n",
    "lol = pd.melt(ben, id_vars=['test'], value_vars=['Benford distribution', 'Hungarian election' ])\n",
    "lol.rename(columns={'variable' : ' '}, inplace =True)\n",
    "sns.barplot(data=lol, y = 'value', x='test', hue =' ', alpha = 0.9, palette=sns.color_palette(colors), saturation =1 )\n",
    "plt.xlabel('First digit')\n",
    "plt.ylabel('Occurence [%]')\n",
    "\n",
    "# Set your custom color palette\n",
    "plt.legend(bbox_to_anchor=(.98, 0.98), loc=1, borderaxespad=0. , fontsize =10)\n",
    "plt.legend(fontsize = 15)\n",
    "plt.tight_layout()\n",
    "plt.savefig('Hungarian electon')"
   ]
  },
  {
   "cell_type": "code",
   "execution_count": 10,
   "id": "85bfb6a4",
   "metadata": {},
   "outputs": [
    {
     "data": {
      "text/html": [
       "<div>\n",
       "<style scoped>\n",
       "    .dataframe tbody tr th:only-of-type {\n",
       "        vertical-align: middle;\n",
       "    }\n",
       "\n",
       "    .dataframe tbody tr th {\n",
       "        vertical-align: top;\n",
       "    }\n",
       "\n",
       "    .dataframe thead th {\n",
       "        text-align: right;\n",
       "    }\n",
       "</style>\n",
       "<table border=\"1\" class=\"dataframe\">\n",
       "  <thead>\n",
       "    <tr style=\"text-align: right;\">\n",
       "      <th></th>\n",
       "      <th>test</th>\n",
       "      <th></th>\n",
       "      <th>value</th>\n",
       "    </tr>\n",
       "  </thead>\n",
       "  <tbody>\n",
       "    <tr>\n",
       "      <th>0</th>\n",
       "      <td>1</td>\n",
       "      <td>Benford distribution</td>\n",
       "      <td>30.100000</td>\n",
       "    </tr>\n",
       "    <tr>\n",
       "      <th>1</th>\n",
       "      <td>2</td>\n",
       "      <td>Benford distribution</td>\n",
       "      <td>17.600000</td>\n",
       "    </tr>\n",
       "    <tr>\n",
       "      <th>2</th>\n",
       "      <td>3</td>\n",
       "      <td>Benford distribution</td>\n",
       "      <td>12.500000</td>\n",
       "    </tr>\n",
       "    <tr>\n",
       "      <th>3</th>\n",
       "      <td>4</td>\n",
       "      <td>Benford distribution</td>\n",
       "      <td>9.700000</td>\n",
       "    </tr>\n",
       "    <tr>\n",
       "      <th>4</th>\n",
       "      <td>5</td>\n",
       "      <td>Benford distribution</td>\n",
       "      <td>7.900000</td>\n",
       "    </tr>\n",
       "    <tr>\n",
       "      <th>5</th>\n",
       "      <td>6</td>\n",
       "      <td>Benford distribution</td>\n",
       "      <td>6.700000</td>\n",
       "    </tr>\n",
       "    <tr>\n",
       "      <th>6</th>\n",
       "      <td>7</td>\n",
       "      <td>Benford distribution</td>\n",
       "      <td>5.800000</td>\n",
       "    </tr>\n",
       "    <tr>\n",
       "      <th>7</th>\n",
       "      <td>8</td>\n",
       "      <td>Benford distribution</td>\n",
       "      <td>5.100000</td>\n",
       "    </tr>\n",
       "    <tr>\n",
       "      <th>8</th>\n",
       "      <td>9</td>\n",
       "      <td>Benford distribution</td>\n",
       "      <td>4.600000</td>\n",
       "    </tr>\n",
       "    <tr>\n",
       "      <th>9</th>\n",
       "      <td>1</td>\n",
       "      <td>Hungarian election</td>\n",
       "      <td>27.300151</td>\n",
       "    </tr>\n",
       "    <tr>\n",
       "      <th>10</th>\n",
       "      <td>2</td>\n",
       "      <td>Hungarian election</td>\n",
       "      <td>32.579186</td>\n",
       "    </tr>\n",
       "    <tr>\n",
       "      <th>11</th>\n",
       "      <td>3</td>\n",
       "      <td>Hungarian election</td>\n",
       "      <td>17.043741</td>\n",
       "    </tr>\n",
       "    <tr>\n",
       "      <th>12</th>\n",
       "      <td>4</td>\n",
       "      <td>Hungarian election</td>\n",
       "      <td>5.882353</td>\n",
       "    </tr>\n",
       "    <tr>\n",
       "      <th>13</th>\n",
       "      <td>5</td>\n",
       "      <td>Hungarian election</td>\n",
       "      <td>3.921569</td>\n",
       "    </tr>\n",
       "    <tr>\n",
       "      <th>14</th>\n",
       "      <td>6</td>\n",
       "      <td>Hungarian election</td>\n",
       "      <td>4.374057</td>\n",
       "    </tr>\n",
       "    <tr>\n",
       "      <th>15</th>\n",
       "      <td>7</td>\n",
       "      <td>Hungarian election</td>\n",
       "      <td>2.564103</td>\n",
       "    </tr>\n",
       "    <tr>\n",
       "      <th>16</th>\n",
       "      <td>8</td>\n",
       "      <td>Hungarian election</td>\n",
       "      <td>3.921569</td>\n",
       "    </tr>\n",
       "    <tr>\n",
       "      <th>17</th>\n",
       "      <td>9</td>\n",
       "      <td>Hungarian election</td>\n",
       "      <td>2.413273</td>\n",
       "    </tr>\n",
       "  </tbody>\n",
       "</table>\n",
       "</div>"
      ],
      "text/plain": [
       "    test                            value\n",
       "0      1  Benford distribution  30.100000\n",
       "1      2  Benford distribution  17.600000\n",
       "2      3  Benford distribution  12.500000\n",
       "3      4  Benford distribution   9.700000\n",
       "4      5  Benford distribution   7.900000\n",
       "5      6  Benford distribution   6.700000\n",
       "6      7  Benford distribution   5.800000\n",
       "7      8  Benford distribution   5.100000\n",
       "8      9  Benford distribution   4.600000\n",
       "9      1    Hungarian election  27.300151\n",
       "10     2    Hungarian election  32.579186\n",
       "11     3    Hungarian election  17.043741\n",
       "12     4    Hungarian election   5.882353\n",
       "13     5    Hungarian election   3.921569\n",
       "14     6    Hungarian election   4.374057\n",
       "15     7    Hungarian election   2.564103\n",
       "16     8    Hungarian election   3.921569\n",
       "17     9    Hungarian election   2.413273"
      ]
     },
     "execution_count": 10,
     "metadata": {},
     "output_type": "execute_result"
    }
   ],
   "source": [
    "lol"
   ]
  },
  {
   "cell_type": "code",
   "execution_count": 11,
   "id": "518c0cd1",
   "metadata": {},
   "outputs": [
    {
     "data": {
      "text/plain": [
       "Index(['test', ' ', 'value'], dtype='object')"
      ]
     },
     "execution_count": 11,
     "metadata": {},
     "output_type": "execute_result"
    }
   ],
   "source": [
    "lol.columns"
   ]
  },
  {
   "cell_type": "code",
   "execution_count": 12,
   "id": "cb4f273a",
   "metadata": {},
   "outputs": [
    {
     "data": {
      "image/png": "[encoded data removed]",
      "text/plain": [
       "<Figure size 720x432 with 1 Axes>"
      ]
     },
     "metadata": {
      "needs_background": "light"
     },
     "output_type": "display_data"
    }
   ],
   "source": [
    "fig2, ax = plt.subplots(figsize=(10,6))\n",
    "sns.lineplot(data=lol, y = 'value', x='test', hue =' ', marker ='o', legend = False)\n",
    "plt.xlabel('First digit')\n",
    "plt.ylabel('Occurence [%]')\n",
    "font = {'weight' : 'normal',\n",
    "        'size'   : 22}\n",
    "\n",
    "plt.rc('font', **font)\n",
    "#plt.legend(bbox_to_anchor=(0.98, 0.98), loc=0, borderaxespad=0. , fontsize =10)\n",
    "plt.tight_layout()"
   ]
  },
  {
   "cell_type": "code",
   "execution_count": 15,
   "id": "c7faf149",
   "metadata": {},
   "outputs": [
    {
     "data": {
      "text/plain": [
       "<AxesSubplot:xlabel='test'>"
      ]
     },
     "execution_count": 15,
     "metadata": {},
     "output_type": "execute_result"
    },
    {
     "data": {
      "image/png": "[encoded data removed]",
      "text/plain": [
       "<Figure size 432x288 with 1 Axes>"
      ]
     },
     "metadata": {
      "needs_background": "light"
     },
     "output_type": "display_data"
    }
   ],
   "source": [
    "ben['Hungarian election'].plot()\n",
    "ben['Benford distribution'].plot(kind = 'bar')"
   ]
  },
  {
   "cell_type": "code",
   "execution_count": null,
   "id": "fa21483f",
   "metadata": {},
   "outputs": [],
   "source": [
    "ben"
   ]
  },
  {
   "cell_type": "markdown",
   "id": "6b27588e",
   "metadata": {},
   "source": [
    "# Log test"
   ]
  },
  {
   "cell_type": "code",
   "execution_count": 16,
   "id": "b4ddde5a",
   "metadata": {},
   "outputs": [],
   "source": [
    "import numpy as np\n",
    "df['log'] = df['votes'].apply(lambda x: np.log(x))"
   ]
  },
  {
   "cell_type": "code",
   "execution_count": 22,
   "id": "01608444",
   "metadata": {},
   "outputs": [
    {
     "data": {
      "text/plain": [
       "<AxesSubplot:>"
      ]
     },
     "execution_count": 22,
     "metadata": {},
     "output_type": "execute_result"
    },
    {
     "data": {
      "image/png": "[encoded data removed]",
      "text/plain": [
       "<Figure size 432x288 with 1 Axes>"
      ]
     },
     "metadata": {
      "needs_background": "light"
     },
     "output_type": "display_data"
    }
   ],
   "source": [
    "df['log'].hist(bins = 30)"
   ]
  },
  {
   "cell_type": "code",
   "execution_count": 18,
   "id": "8edd395e",
   "metadata": {},
   "outputs": [
    {
     "data": {
      "text/plain": [
       "<AxesSubplot:>"
      ]
     },
     "execution_count": 18,
     "metadata": {},
     "output_type": "execute_result"
    },
    {
     "data": {
      "image/png": "[encoded data removed]",
      "text/plain": [
       "<Figure size 432x288 with 1 Axes>"
      ]
     },
     "metadata": {
      "needs_background": "light"
     },
     "output_type": "display_data"
    }
   ],
   "source": [
    "lal = df[df['votes']  > 100]\n",
    "\n",
    "lal['votes'].dropna().hist()"
   ]
  },
  {
   "cell_type": "code",
   "execution_count": null,
   "id": "938eb7ce",
   "metadata": {},
   "outputs": [],
   "source": []
  }
 ],
 "metadata": {
  "kernelspec": {
   "display_name": "Python 3 (ipykernel)",
   "language": "python",
   "name": "python3"
  },
  "language_info": {
   "codemirror_mode": {
    "name": "ipython",
    "version": 3
   },
   "file_extension": ".py",
   "mimetype": "text/x-python",
   "name": "python",
   "nbconvert_exporter": "python",
   "pygments_lexer": "ipython3",
   "version": "3.9.7"
  }
 },
 "nbformat": 4,
 "nbformat_minor": 5
}
